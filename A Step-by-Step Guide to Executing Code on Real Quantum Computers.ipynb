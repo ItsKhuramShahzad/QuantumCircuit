{
 "cells": [
  {
   "cell_type": "markdown",
   "id": "e3781aeb",
   "metadata": {},
   "source": [
    "# **<font style=\"color:rgb(9, 99, 184)\">Unlocking Quantum Computing: A Step-by-Step Guide to Executing Code on Real Quantum Computers</font>** "
   ]
  },
  {
   "cell_type": "markdown",
   "id": "93dbcf91",
   "metadata": {},
   "source": [
    "\n",
    " ### **<font style=\"color:rgb(9, 99, 184)\">How To Run Code On A Real Quantum Computer..?</font>** "
   ]
  },
  {
   "cell_type": "markdown",
   "id": "6c9e5601",
   "metadata": {},
   "source": [
    "Quantum computers are now a reality, and you can access them for free through platforms like IBM's cloud-based quantum computing services. To get started, you'll need to register for IBM's quantum services by creating an IBMid account and verifying your email address.\n"
   ]
  },
  {
   "cell_type": "markdown",
   "id": "1d87c568",
   "metadata": {},
   "source": [
    "Unlock the future of computing with quantum technology. Quantum computers harness the power of the smallest particles to solve complex problems faster and more efficiently than ever before. Step into the realm of limitless possibilities and accelerate innovation with quantum computing."
   ]
  },
  {
   "cell_type": "markdown",
   "id": "84b5c4a8",
   "metadata": {},
   "source": [
    "![](images\\quantum.jpeg)\n",
    "\n",
    "Source: IBM Quantum Computing, (Source: <a href = \"https://quantum-computing.ibm.com/\">  IBM Qauntum Platform </a>)."
   ]
  },
  {
   "cell_type": "markdown",
   "id": "cfb23658",
   "metadata": {},
   "source": [
    "## **<font style=\"color:rgb(9, 99, 184)\">Create an IBM Qauntum Platform Account </font>** \n",
    "\n",
    "To begin utilizing IBM's quantum computing services, the initial step involves registering for an IBMid account. Simply select the <a href=\"https://quantum-computing.ibm.com/\"> Create an IBMid account</a>\n",
    " option and furnish the required information. Once you have successfully confirmed your email address, you will be ready to commence your quantum computing journey.\n"
   ]
  },
  {
   "cell_type": "markdown",
   "id": "1d77f973",
   "metadata": {},
   "source": [
    "IBM Qauntum Platform Link: https://quantum-computing.ibm.com/"
   ]
  },
  {
   "cell_type": "markdown",
   "id": "d7c4c4c2",
   "metadata": {},
   "source": [
    "![Create an Account](images\\1.png)\n",
    "Create an Account, (Source: <a href = \"https://quantum-computing.ibm.com/\">  IBM Qauntum Platform </a>)."
   ]
  },
  {
   "cell_type": "markdown",
   "id": "75494a91",
   "metadata": {},
   "source": [
    "## **<font style=\"color:rgb(9, 99, 184)\">Login into IBM Qauntum Platfrom Account </font>** \n",
    "If you have created an account you can directly login into it by using crediental"
   ]
  },
  {
   "cell_type": "markdown",
   "id": "eaf26d2f",
   "metadata": {},
   "source": [
    "![Login into the IBM Quantum Platform Account](images\\login.png)\n",
    "\n",
    "Login into the IBM Quantum Platform Account, (Source: <a href = \"https://quantum-computing.ibm.com/\">  IBM Qauntum Platform </a>)."
   ]
  },
  {
   "cell_type": "markdown",
   "id": "49bae0fc",
   "metadata": {},
   "source": [
    "## **<font style=\"color:rgb(9, 99, 184)\">Dashboard of IBM Qauntum Platfrom </font>** "
   ]
  },
  {
   "cell_type": "markdown",
   "id": "ba3a62b4",
   "metadata": {},
   "source": [
    "The Dashboard offers a comprehensive summary of your reserved IBM Quantum Services. Of utmost significance, it displays a section labeled \"Your Systems.\" To access a complete list, kindly click on \"View All\" and subsequently opt for \"Your Systems\" within the filtering dropdown menu located immediately adjacent to the search bar."
   ]
  },
  {
   "cell_type": "markdown",
   "id": "bff42047",
   "metadata": {},
   "source": [
    "![dashboard](images\\dashboard.png)\n",
    "\n",
    "IBM Quantum Dashboard, (Source: <a href = \"https://quantum-computing.ibm.com/\">  IBM Qauntum Platform </a>)."
   ]
  },
  {
   "cell_type": "markdown",
   "id": "f5610dab",
   "metadata": {},
   "source": [
    "## **<font style=\"color:rgb(9, 99, 184)\">Avaiablity of Quantum Computer and Simulator </font>** "
   ]
  },
  {
   "cell_type": "markdown",
   "id": "469616c6",
   "metadata": {},
   "source": [
    "This action <a href=\"https://quantum-computing.ibm.com/services/resources?tab=yours\"> Resources</a> will provide you with an overview of the available quantum computing systems at your disposal. While these systems may possess only a limited number of qubits, they are entirely adequate for initiating your quantum computing endeavors."
   ]
  },
  {
   "cell_type": "markdown",
   "id": "a5a9ca31",
   "metadata": {},
   "source": [
    "![resources](images\\resources.png)\n",
    "\n",
    "IBM Quantum Platfrom Resources, (Source: <a href = \"https://quantum-computing.ibm.com/\">  IBM Qauntum Platform </a>)."
   ]
  },
  {
   "cell_type": "markdown",
   "id": "7763c915",
   "metadata": {},
   "source": [
    "## **<font style=\"color:rgb(9, 99, 184)\">Configuration of Quantum Device </font>** "
   ]
  },
  {
   "cell_type": "markdown",
   "id": "4971365b",
   "metadata": {},
   "source": [
    "Upon selecting a specific system, you will gain access to a comprehensive overview of its architectural and configurational details. Notably, the diagram positioned in the lower-right corner elucidates the interconnections among the qubits within the system. An inherent constraint to be mindful of when engaging with an authentic quantum computer is our ability to exclusively entangle qubits that share a direct connection with one another."
   ]
  },
  {
   "cell_type": "markdown",
   "id": "d6cc051e",
   "metadata": {},
   "source": [
    "![instance](images\\instance.png)\n",
    "Quantum Device configuration, (Source: <a href = \"https://quantum-computing.ibm.com/\">  IBM Qauntum Platform </a>)."
   ]
  },
  {
   "cell_type": "markdown",
   "id": "65d130ac",
   "metadata": {},
   "source": [
    "# **<font style=\"color:rgb(9, 99, 184)\">Let's Start Coding in Jupyter Notebook or in IBM Quantum Lab.</font>** "
   ]
  },
  {
   "cell_type": "markdown",
   "id": "dd15b603",
   "metadata": {},
   "source": [
    "We start with a few imports and then, we define the circuit.\n"
   ]
  },
  {
   "cell_type": "raw",
   "id": "05889106",
   "metadata": {},
   "source": [
    "Note: IBM has stoped its quanutm hardware services in Pakistan, you can try it using a proxy"
   ]
  },
  {
   "cell_type": "markdown",
   "id": "b643f29e",
   "metadata": {},
   "source": [
    "### **<font style=\"color:rgb(9, 99, 184)\">A code Sample: Implementation of Left Shift</font>** \n"
   ]
  },
  {
   "cell_type": "code",
   "execution_count": 1,
   "id": "9113ef77",
   "metadata": {
    "tags": []
   },
   "outputs": [
    {
     "data": {
      "image/png": "[encoded data removed]",
      "text/plain": [
       "<Figure size 556.358x367.889 with 1 Axes>"
      ]
     },
     "execution_count": 1,
     "metadata": {},
     "output_type": "execute_result"
    }
   ],
   "source": [
    "from qiskit import QuantumCircuit, QuantumRegister, ClassicalRegister, IBMQ, execute, transpile, Aer, assemble\n",
    "from qiskit.tools.monitor import job_monitor\n",
    "from qiskit.tools.visualization import plot_histogram\n",
    "\n",
    "qr = QuantumRegister(3)\n",
    "cr = ClassicalRegister(2)\n",
    "\n",
    "circuit = QuantumCircuit(qr, cr)\n",
    "circuit.h(qr[2])\n",
    "circuit.cx(qr[2],qr[1])\n",
    "circuit.ccx(qr[2],qr[1],qr[0])\n",
    "circuit.measure(qr[0], cr[0])\n",
    "circuit.measure(qr[1], cr[1])\n",
    "circuit.draw('mpl')"
   ]
  },
  {
   "cell_type": "markdown",
   "id": "6439152e",
   "metadata": {},
   "source": [
    "### **<font style=\"color:rgb(9, 99, 184)\">Load your IBM Quantum Account using API Token </font>** "
   ]
  },
  {
   "cell_type": "markdown",
   "id": "e76c6b14",
   "metadata": {},
   "source": [
    "Prior to executing the code, it is imperative that we establish a connection with the **ibm_perth** device. To achieve this, we must first load our account by utilizing your API token. Your API token can be acquired through the IBM Quantum dashboard and is characterized by its considerable length. It is of utmost importance to exercise vigilance in safeguarding this token."
   ]
  },
  {
   "cell_type": "code",
   "execution_count": 3,
   "id": "5c9eb72d",
   "metadata": {
    "tags": []
   },
   "outputs": [
    {
     "data": {
      "text/plain": [
       "[<AccountProvider for IBMQ(hub='ibm-q', group='open', project='main')>]"
      ]
     },
     "execution_count": 3,
     "metadata": {},
     "output_type": "execute_result"
    }
   ],
   "source": [
    " # replace TOKEN with your API token string (https://quantum-computing.ibm.com/)\n",
    "# IBMQ.save_account(\"TOKEN\", overwrite=True) \n",
    "# provider = IBMQ.load_account()\n",
    "# Suppress warnings\n",
    "IBMQ.save_account('TOKEN',overwrite=True)\n",
    "IBMQ.load_account() # Load account from disk\n",
    "IBMQ.providers()    # List all available providers"
   ]
  },
  {
   "cell_type": "markdown",
   "id": "1d586513",
   "metadata": {},
   "source": [
    "### **<font style=\"color:rgb(9, 99, 184)\">List of available Quantum Devices</font>** "
   ]
  },
  {
   "cell_type": "code",
   "execution_count": 4,
   "id": "3e55eacc",
   "metadata": {
    "tags": []
   },
   "outputs": [
    {
     "data": {
      "text/plain": [
       "[<IBMQSimulator('ibmq_qasm_simulator') from IBMQ(hub='ibm-q', group='open', project='main')>,\n",
       " <IBMQBackend('ibmq_lima') from IBMQ(hub='ibm-q', group='open', project='main')>,\n",
       " <IBMQBackend('ibmq_belem') from IBMQ(hub='ibm-q', group='open', project='main')>,\n",
       " <IBMQBackend('ibmq_quito') from IBMQ(hub='ibm-q', group='open', project='main')>,\n",
       " <IBMQSimulator('simulator_statevector') from IBMQ(hub='ibm-q', group='open', project='main')>,\n",
       " <IBMQSimulator('simulator_mps') from IBMQ(hub='ibm-q', group='open', project='main')>,\n",
       " <IBMQSimulator('simulator_extended_stabilizer') from IBMQ(hub='ibm-q', group='open', project='main')>,\n",
       " <IBMQSimulator('simulator_stabilizer') from IBMQ(hub='ibm-q', group='open', project='main')>,\n",
       " <IBMQBackend('ibmq_jakarta') from IBMQ(hub='ibm-q', group='open', project='main')>,\n",
       " <IBMQBackend('ibmq_manila') from IBMQ(hub='ibm-q', group='open', project='main')>,\n",
       " <IBMQBackend('ibm_lagos') from IBMQ(hub='ibm-q', group='open', project='main')>,\n",
       " <IBMQBackend('ibm_nairobi') from IBMQ(hub='ibm-q', group='open', project='main')>,\n",
       " <IBMQBackend('ibm_perth') from IBMQ(hub='ibm-q', group='open', project='main')>]"
      ]
     },
     "execution_count": 4,
     "metadata": {},
     "output_type": "execute_result"
    }
   ],
   "source": [
    "provider = IBMQ.get_provider(hub='ibm-q')\n",
    "provider.backends()"
   ]
  },
  {
   "cell_type": "markdown",
   "id": "43b28312",
   "metadata": {},
   "source": [
    "### **<font style=\"color:rgb(9, 99, 184)\">Make a connection with IBM Device</font>** "
   ]
  },
  {
   "cell_type": "markdown",
   "id": "41d205da-870c-41dd-bca4-7838f57b1c6c",
   "metadata": {},
   "source": [
    "Next, we connect to the provider and get the Preth backend. If you want to connect to other backends, you may need to select another hub, group, and project. But IBM will let you know when they grant you access to any other provider.\n",
    "\n",
    "Then, we need to transpile the circuit. In this step, Qiskit rewrites your code to match the device's requirements. For instance, if we entangled two qubits that are not connected physically, Qiskit would rewrite the circuit to adhere to the hardware requirements.\n",
    "\n",
    "Finally, we assemble the circuit and send it to the backend that returns a job object."
   ]
  },
  {
   "cell_type": "code",
   "execution_count": 5,
   "id": "487f64cc-2b31-4342-a3e3-acb9d78625a6",
   "metadata": {
    "tags": []
   },
   "outputs": [],
   "source": [
    "# Get backend for experiment\n",
    "provider = IBMQ.get_provider(hub='ibm-q', group='open', project='main')\n",
    "backend = provider.get_backend('ibm_perth')\n",
    "\n",
    "# prepare the circuit for the backend\n",
    "mapped_circuit = transpile(circuit, backend=backend)\n",
    "qobj = assemble(mapped_circuit, backend=backend, shots=1024)\n",
    "\n",
    "# execute the circuit\n",
    "job = backend.run(qobj)"
   ]
  },
  {
   "cell_type": "markdown",
   "id": "533aaad7",
   "metadata": {},
   "source": [
    "### **<font style=\"color:rgb(9, 99, 184)\">Live Job Status and Its ID </font>** "
   ]
  },
  {
   "cell_type": "markdown",
   "id": "d7ad8b70-9029-46e7-8fcc-5a1a951208f9",
   "metadata": {},
   "source": [
    "The job object lets you manage your request. For instance, you can obtain its status"
   ]
  },
  {
   "cell_type": "code",
   "execution_count": 6,
   "id": "2e878d3d-19eb-4ce7-81e5-a84ab8836729",
   "metadata": {
    "tags": []
   },
   "outputs": [
    {
     "data": {
      "text/plain": [
       "<JobStatus.QUEUED: 'job is queued'>"
      ]
     },
     "execution_count": 6,
     "metadata": {},
     "output_type": "execute_result"
    }
   ],
   "source": [
    "job.status()"
   ]
  },
  {
   "cell_type": "code",
   "execution_count": 7,
   "id": "e83dbb5b-a8cf-487c-9a51-d5b2e077a972",
   "metadata": {
    "tags": []
   },
   "outputs": [
    {
     "data": {
      "text/plain": [
       "'ck2mrfsai8c00cggfaj0'"
      ]
     },
     "execution_count": 7,
     "metadata": {},
     "output_type": "execute_result"
    }
   ],
   "source": [
    "job.job_id()"
   ]
  },
  {
   "cell_type": "markdown",
   "id": "78edd394-1c37-4d44-b6c7-aa62a23a9183",
   "metadata": {},
   "source": [
    "Let's have another look at the IBM Quantum dashboard. You should now have an entry in the **Jobs**-list. When you click on it, you get the details. There, you also see when your circuit is scheduled to run. In my case, it takes about half an hour."
   ]
  },
  {
   "cell_type": "markdown",
   "id": "c482032c-03f5-40d1-97da-a3727413e989",
   "metadata": {},
   "source": [
    "![job](images\\job.png)\n",
    " (Source: IBM Qauntum Platform, (Source: <a href = \"https://quantum-computing.ibm.com/\">  IBM Qauntum Platform </a>)."
   ]
  },
  {
   "cell_type": "markdown",
   "id": "856c20c0",
   "metadata": {},
   "source": [
    "### **<font style=\"color:rgb(9, 99, 184)\">Get the result from Quantum Device </font>** "
   ]
  },
  {
   "cell_type": "markdown",
   "id": "05db08fc-527e-4e5d-8817-2c887a12dd7b",
   "metadata": {},
   "source": [
    "Of course, we're interested in the results of the job once completed. But maybe you don't want to wait that long. So, you may want to retrieve the job later."
   ]
  },
  {
   "cell_type": "code",
   "execution_count": 8,
   "id": "2c77c2f0-04a2-470e-88fe-88af2f66ce8d",
   "metadata": {
    "tags": []
   },
   "outputs": [],
   "source": [
    "job = provider.get_backend('ibm_perth').retrieve_job('ck2mrfsai8c00cggfaj0')"
   ]
  },
  {
   "cell_type": "code",
   "execution_count": 10,
   "id": "b7addfe4-2d2c-49d5-85c6-f02260457515",
   "metadata": {
    "tags": []
   },
   "outputs": [
    {
     "name": "stdout",
     "output_type": "stream",
     "text": [
      "{'00': 437, '01': 53, '10': 81, '11': 453}\n"
     ]
    }
   ],
   "source": [
    "result = job.result()\n",
    "counts = result.get_counts()\n",
    "print(counts)"
   ]
  },
  {
   "cell_type": "markdown",
   "id": "5df91112-0736-43e1-ba4e-e0680925ed78",
   "metadata": {},
   "source": [
    "The bitstrings indicate the measured values of the qubits (read from right to left). We can see that the upper qubits at positions four and five are not always 0. This may seem strange because we didn't do anything with them. So, they should remain at the default state of 0. Unfortunately, qubits are very sensitive to noise."
   ]
  },
  {
   "cell_type": "code",
   "execution_count": 13,
   "id": "ba661fa5-a556-4d8b-a179-cf6f97aaeede",
   "metadata": {
    "tags": []
   },
   "outputs": [
    {
     "data": {
      "image/png": "[encoded data removed]",
      "text/plain": [
       "<Figure size 700x500 with 1 Axes>"
      ]
     },
     "execution_count": 13,
     "metadata": {},
     "output_type": "execute_result"
    }
   ],
   "source": [
    "plot_histogram(counts)"
   ]
  },
  {
   "cell_type": "markdown",
   "id": "f2cc195f",
   "metadata": {},
   "source": [
    "The result show that state |00> and |11> have high probability than state |01> and |10>"
   ]
  },
  {
   "cell_type": "markdown",
   "id": "34a2b840",
   "metadata": {},
   "source": [
    "## **<font style=\"color:rgb(9, 99, 184)\">Summary</font>** "
   ]
  },
  {
   "cell_type": "markdown",
   "id": "08b9352f",
   "metadata": {},
   "source": [
    "Quantum computing is now accessible through platforms like IBM's cloud-based services. To begin, register for an IBMid account and verify your email.\n",
    "\n",
    "Once registered, use the Dashboard to explore available IBM Quantum Services, focusing on \"Your Systems.\" To see all systems, click \"View All\" and select \"Your Systems\" from the filter. These systems have limited qubits but suffice for initial quantum computing.\n",
    "\n",
    "Clicking on a system reveals its architecture and qubit connections; you can only entangle physically connected qubits.\n",
    "\n",
    "For real quantum computing, create a quantum circuit, typically in a Jupyter notebook. Import necessary libraries, define the circuit, and connect to a quantum device. Use an API token from the IBM Quantum dashboard for account authentication, ensuring token security. Connect to the provider and select the backend, such as Quito.\n",
    "\n",
    "Transpile the circuit to adapt it to hardware requirements, ensuring compatibility. Assemble the circuit, send it to the backend, and receive a job object for request management. Track job status, runtime, and job ID via the IBM Quantum dashboard.\n",
    "\n",
    "Upon job completion, retrieve results, representing qubit measurements. Note that qubits may yield unexpected outcomes due to noise, even without specific operations."
   ]
  },
  {
   "cell_type": "code",
   "execution_count": null,
   "id": "9a829322",
   "metadata": {},
   "outputs": [],
   "source": []
  }
 ],
 "metadata": {
  "kernelspec": {
   "display_name": "Python 3 (ipykernel)",
   "language": "python",
   "name": "python3"
  },
  "language_info": {
   "codemirror_mode": {
    "name": "ipython",
    "version": 3
   },
   "file_extension": ".py",
   "mimetype": "text/x-python",
   "name": "python",
   "nbconvert_exporter": "python",
   "pygments_lexer": "ipython3",
   "version": "3.10.9"
  },
  "widgets": {
   "application/vnd.jupyter.widget-state+json": {
    "state": {},
    "version_major": 2,
    "version_minor": 0
   }
  }
 },
 "nbformat": 4,
 "nbformat_minor": 5
}
